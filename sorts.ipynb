{
 "cells": [
  {
   "cell_type": "markdown",
   "metadata": {},
   "source": [
    "# Sorting Algorithms "
   ]
  },
  {
   "cell_type": "markdown",
   "metadata": {},
   "source": [
    "## Imports"
   ]
  },
  {
   "cell_type": "code",
   "execution_count": 35,
   "metadata": {
    "collapsed": false
   },
   "outputs": [],
   "source": [
    "from numba import jit\n",
    "import random \n",
    "import timeit\n",
    "import numpy as np \n",
    "import pandas as pd "
   ]
  },
  {
   "cell_type": "markdown",
   "metadata": {},
   "source": [
    "## Merge Sort"
   ]
  },
  {
   "cell_type": "code",
   "execution_count": 36,
   "metadata": {
    "collapsed": false
   },
   "outputs": [],
   "source": [
    "@jit\n",
    "def mergesort(a):\n",
    "    n = len(a)\n",
    "    if n==0:\n",
    "        return a\n",
    "    if n ==1:\n",
    "        return a\n",
    "    if n > 1:\n",
    "        return merge(mergesort(a[:int(n/2)]), mergesort(a[int(n/2):]))"
   ]
  },
  {
   "cell_type": "code",
   "execution_count": 37,
   "metadata": {
    "collapsed": true
   },
   "outputs": [],
   "source": [
    "@jit\n",
    "def merge(l1, l2): \n",
    "    combined = []\n",
    "    c1 = 0 \n",
    "    c2 = 0\n",
    "    n1 = l1[c1]\n",
    "    n2 = l2[c2]\n",
    "    len1 = len(l1)\n",
    "    len2 = len(l2)\n",
    "    while (c1<len1 and c2<len2):\n",
    "        if n1 < n2: \n",
    "            combined.append(n1)\n",
    "            c1+=1\n",
    "            if (c1 < len1): \n",
    "                n1 = l1[c1]\n",
    "        else: \n",
    "            combined.append(n2)\n",
    "            c2+=1\n",
    "            if (c2 < len2):\n",
    "                n2 = l2[c2]\n",
    "    combined.extend(l1[c1:])\n",
    "    combined.extend(l2[c2:])\n",
    "    return combined"
   ]
  },
  {
   "cell_type": "code",
   "execution_count": 38,
   "metadata": {
    "collapsed": false
   },
   "outputs": [
    {
     "data": {
      "text/plain": [
       "[3, 4, 5, 6, 7]"
      ]
     },
     "execution_count": 38,
     "metadata": {},
     "output_type": "execute_result"
    }
   ],
   "source": [
    "merge([3, 5],[4, 6, 7])"
   ]
  },
  {
   "cell_type": "code",
   "execution_count": 39,
   "metadata": {
    "collapsed": false
   },
   "outputs": [
    {
     "data": {
      "text/plain": [
       "[1, 2, 4, 5, 6, 8]"
      ]
     },
     "execution_count": 39,
     "metadata": {},
     "output_type": "execute_result"
    }
   ],
   "source": [
    "mergesort([6, 8, 2, 4, 1, 5])"
   ]
  },
  {
   "cell_type": "markdown",
   "metadata": {},
   "source": [
    "## Bubble Sort"
   ]
  },
  {
   "cell_type": "code",
   "execution_count": 6,
   "metadata": {
    "collapsed": false
   },
   "outputs": [],
   "source": [
    "@jit\n",
    "def bubblesort(a):\n",
    "    while(not isSorted(a)):\n",
    "        for i in range (1, len(a)):\n",
    "            if a[i-1] > a[i]:\n",
    "                temp = a[i-1]\n",
    "                a[i-1] = a[i]\n",
    "                a[i] = temp\n",
    "    return a\n"
   ]
  },
  {
   "cell_type": "code",
   "execution_count": 7,
   "metadata": {
    "collapsed": false
   },
   "outputs": [],
   "source": [
    "@jit\n",
    "def isSorted(a):\n",
    "    for i in range(1, len(a)):\n",
    "        if a[i-1] > a[i]:\n",
    "            return False\n",
    "    return True "
   ]
  },
  {
   "cell_type": "code",
   "execution_count": 8,
   "metadata": {
    "collapsed": false
   },
   "outputs": [
    {
     "data": {
      "text/plain": [
       "[-1, 2, 3, 3, 4, 4, 5, 6, 7, 8, 9]"
      ]
     },
     "execution_count": 8,
     "metadata": {},
     "output_type": "execute_result"
    }
   ],
   "source": [
    "bubblesort([-1, 2, 6, 4, 5, 3, 7, 8, 3, 4, 9])"
   ]
  },
  {
   "cell_type": "markdown",
   "metadata": {},
   "source": [
    "## Quick Sort"
   ]
  },
  {
   "cell_type": "code",
   "execution_count": 9,
   "metadata": {
    "collapsed": true
   },
   "outputs": [],
   "source": [
    "@jit\n",
    "def quicksort(a, s, e):\n",
    "    #print(a, s, e)\n",
    "    #print(a.__repr__)\n",
    "    if (e-s)==0:\n",
    "        return \n",
    "    pivot = a[e-1]\n",
    "    p1 = s\n",
    "    p2 = e - 1\n",
    "    while (p1 != p2):\n",
    "        if (a[p1] > pivot):\n",
    "            a[p2] = a[p1]\n",
    "            a[p1] = a[p2-1]\n",
    "            a[p2-1] = pivot\n",
    "            p2 = p2 -1\n",
    "        else: \n",
    "            p1+=1\n",
    "    quicksort(a, s, p2)\n",
    "    quicksort(a, p2+1, e)"
   ]
  },
  {
   "cell_type": "code",
   "execution_count": 31,
   "metadata": {
    "collapsed": true
   },
   "outputs": [],
   "source": [
    "def quicksortwrapper(a):\n",
    "    quicksort(a, 0, len(a))"
   ]
  },
  {
   "cell_type": "code",
   "execution_count": 10,
   "metadata": {
    "collapsed": false
   },
   "outputs": [
    {
     "data": {
      "text/plain": [
       "['aaa', 'cff', 'dsg', 'ssjs']"
      ]
     },
     "execution_count": 10,
     "metadata": {},
     "output_type": "execute_result"
    }
   ],
   "source": [
    "a = ['dsg', 'ssjs', 'aaa', 'cff']\n",
    "quicksort(a, 0, 4)\n",
    "a"
   ]
  },
  {
   "cell_type": "markdown",
   "metadata": {},
   "source": [
    "## Sort Class"
   ]
  },
  {
   "cell_type": "code",
   "execution_count": 11,
   "metadata": {
    "collapsed": false
   },
   "outputs": [],
   "source": [
    "class Sort(object):\n",
    "   \n",
    "    def sort(self, l):\n",
    "        l.sort()\n",
    "        return l\n",
    "\n",
    "    def isSorted(self, a):\n",
    "        for i in range(1, len(a)):\n",
    "            if a[i-1] > a[i]:\n",
    "                return False\n",
    "        return True \n",
    "    \n",
    "    def time(self, l):\n",
    "        def real():\n",
    "            self.sort(l)\n",
    "        return timeit.timeit(real, number =1)"
   ]
  },
  {
   "cell_type": "code",
   "execution_count": 12,
   "metadata": {
    "collapsed": true
   },
   "outputs": [],
   "source": [
    "class MergeSort(Sort):\n",
    "\n",
    "    def __merge(self, l1, l2): \n",
    "        combined = []\n",
    "        c1 = 0 \n",
    "        c2 = 0\n",
    "        n1 = l1[c1]\n",
    "        n2 = l2[c2]\n",
    "        len1 = len(l1)\n",
    "        len2 = len(l2)\n",
    "        while (c1<len1 and c2<len2):\n",
    "            if n1 < n2: \n",
    "                combined.append(n1)\n",
    "                c1+=1\n",
    "                if (c1 < len1): \n",
    "                    n1 = l1[c1]\n",
    "            else: \n",
    "                combined.append(n2)\n",
    "                c2+=1\n",
    "                if (c2 < len2):\n",
    "                    n2 = l2[c2]\n",
    "        combined.extend(l1[c1:])\n",
    "        combined.extend(l2[c2:])\n",
    "        return combined\n",
    "    \n",
    "    def sort(self, a):\n",
    "        n = len(a)\n",
    "        if n==0:\n",
    "            return a\n",
    "        if n ==1:\n",
    "            return a\n",
    "        if n > 1:\n",
    "            return self.__merge(self.sort(a[:int(n/2)]), self.sort(a[int(n/2):]))\n"
   ]
  },
  {
   "cell_type": "code",
   "execution_count": 13,
   "metadata": {
    "collapsed": false
   },
   "outputs": [],
   "source": [
    "class BubbleSort(Sort):\n",
    "    def sort(self, a):\n",
    "        while(not self.isSorted(a)):\n",
    "            for i in range (1, len(a)):\n",
    "                if a[i-1] > a[i]:\n",
    "                    temp = a[i-1]\n",
    "                    a[i-1] = a[i]\n",
    "                    a[i] = temp\n",
    "        return a"
   ]
  },
  {
   "cell_type": "code",
   "execution_count": 14,
   "metadata": {
    "collapsed": true
   },
   "outputs": [],
   "source": [
    "class QuickSort(Sort):\n",
    "    def sorthelper(self, a , s, e):\n",
    "        if (e-s)==0:\n",
    "            return \n",
    "        pivot = a[e-1]\n",
    "        p1 = s\n",
    "        p2 = e - 1\n",
    "        while (p1 != p2):\n",
    "            if (a[p1] > pivot):\n",
    "                a[p2] = a[p1]\n",
    "                a[p1] = a[p2-1]\n",
    "                a[p2-1] = pivot\n",
    "                p2 = p2 -1\n",
    "            else: \n",
    "                p1+=1\n",
    "        self.sorthelper(a, s, p2)\n",
    "        self.sorthelper(a, p2+1, e)       \n",
    "    \n",
    "    def sort(self, a):\n",
    "        self.sorthelper(a , 0, len(a))"
   ]
  },
  {
   "cell_type": "markdown",
   "metadata": {},
   "source": [
    "## Timings"
   ]
  },
  {
   "cell_type": "code",
   "execution_count": 15,
   "metadata": {
    "collapsed": false,
    "scrolled": true
   },
   "outputs": [
    {
     "name": "stdout",
     "output_type": "stream",
     "text": [
      "0.059273206017678604\n",
      "0.002656165015650913\n",
      "0.03405297300196253\n",
      "14.139087391988141\n"
     ]
    }
   ],
   "source": [
    "x = 10000\n",
    "ls = list(range(x))\n",
    "random.shuffle(ls)\n",
    "m = MergeSort()\n",
    "b = BubbleSort()\n",
    "q = QuickSort()\n",
    "s = Sort()\n",
    "for i in [m, s, q, b]:\n",
    "    random.shuffle(ls)\n",
    "    print(i.time(ls))"
   ]
  },
  {
   "cell_type": "code",
   "execution_count": 16,
   "metadata": {
    "collapsed": true
   },
   "outputs": [],
   "source": [
    "x = 1000000\n",
    "ls = list(range(x))"
   ]
  },
  {
   "cell_type": "code",
   "execution_count": 71,
   "metadata": {
    "collapsed": false
   },
   "outputs": [],
   "source": [
    "def timequicksort(a):\n",
    "    def quick_sort():\n",
    "        quicksortwrapper(a)\n",
    "    return timeit.timeit(quick_sort, number =1)"
   ]
  },
  {
   "cell_type": "code",
   "execution_count": 18,
   "metadata": {
    "collapsed": false
   },
   "outputs": [
    {
     "data": {
      "text/plain": [
       "1.101486647996353"
      ]
     },
     "execution_count": 18,
     "metadata": {},
     "output_type": "execute_result"
    }
   ],
   "source": [
    "random.shuffle(ls)\n",
    "def real():\n",
    "    ls.sort()\n",
    "timeit.timeit(real, number =1)"
   ]
  },
  {
   "cell_type": "code",
   "execution_count": 72,
   "metadata": {
    "collapsed": false
   },
   "outputs": [],
   "source": [
    "def timebubblesort(a):\n",
    "    def bubble_sort():\n",
    "        bubblesort(ls)\n",
    "    return timeit.timeit(bubble_sort, number =1)"
   ]
  },
  {
   "cell_type": "code",
   "execution_count": 73,
   "metadata": {
    "collapsed": false
   },
   "outputs": [],
   "source": [
    "def timemergesort(a):\n",
    "    def merge_sort():\n",
    "        return mergesort(ls)\n",
    "    return timeit.timeit(merge_sort, number =1)"
   ]
  },
  {
   "cell_type": "code",
   "execution_count": 54,
   "metadata": {
    "collapsed": true
   },
   "outputs": [],
   "source": [
    "cols = [\"name\", 1, 10, 100, 1000, 10000, 100000, 1000000, 10000000]"
   ]
  },
  {
   "cell_type": "code",
   "execution_count": 55,
   "metadata": {
    "collapsed": false
   },
   "outputs": [],
   "source": [
    "df = pd.DataFrame(columns = cols)"
   ]
  },
  {
   "cell_type": "code",
   "execution_count": 56,
   "metadata": {
    "collapsed": false
   },
   "outputs": [],
   "source": [
    "df[\"name\"] = [\"MergeSort\", \"QuickSort\", \"BubbleSort\", \"defaultSort\", \"MergeSortCompiled\", \"QuickSortCompiled\", \"BubbleSortCompiled\"]"
   ]
  },
  {
   "cell_type": "code",
   "execution_count": 58,
   "metadata": {
    "collapsed": false
   },
   "outputs": [
    {
     "data": {
      "text/html": [
       "<div>\n",
       "<table border=\"1\" class=\"dataframe\">\n",
       "  <thead>\n",
       "    <tr style=\"text-align: right;\">\n",
       "      <th></th>\n",
       "      <th>name</th>\n",
       "      <th>1</th>\n",
       "      <th>10</th>\n",
       "      <th>100</th>\n",
       "      <th>1000</th>\n",
       "      <th>10000</th>\n",
       "      <th>100000</th>\n",
       "      <th>1000000</th>\n",
       "      <th>10000000</th>\n",
       "    </tr>\n",
       "  </thead>\n",
       "  <tbody>\n",
       "    <tr>\n",
       "      <th>0</th>\n",
       "      <td>MergeSort</td>\n",
       "      <td>NaN</td>\n",
       "      <td>NaN</td>\n",
       "      <td>NaN</td>\n",
       "      <td>NaN</td>\n",
       "      <td>NaN</td>\n",
       "      <td>NaN</td>\n",
       "      <td>NaN</td>\n",
       "      <td>NaN</td>\n",
       "    </tr>\n",
       "    <tr>\n",
       "      <th>1</th>\n",
       "      <td>QuickSort</td>\n",
       "      <td>NaN</td>\n",
       "      <td>NaN</td>\n",
       "      <td>NaN</td>\n",
       "      <td>NaN</td>\n",
       "      <td>NaN</td>\n",
       "      <td>NaN</td>\n",
       "      <td>NaN</td>\n",
       "      <td>NaN</td>\n",
       "    </tr>\n",
       "    <tr>\n",
       "      <th>2</th>\n",
       "      <td>BubbleSort</td>\n",
       "      <td>NaN</td>\n",
       "      <td>NaN</td>\n",
       "      <td>NaN</td>\n",
       "      <td>NaN</td>\n",
       "      <td>NaN</td>\n",
       "      <td>NaN</td>\n",
       "      <td>NaN</td>\n",
       "      <td>NaN</td>\n",
       "    </tr>\n",
       "    <tr>\n",
       "      <th>3</th>\n",
       "      <td>defaultSort</td>\n",
       "      <td>NaN</td>\n",
       "      <td>NaN</td>\n",
       "      <td>NaN</td>\n",
       "      <td>NaN</td>\n",
       "      <td>NaN</td>\n",
       "      <td>NaN</td>\n",
       "      <td>NaN</td>\n",
       "      <td>NaN</td>\n",
       "    </tr>\n",
       "    <tr>\n",
       "      <th>4</th>\n",
       "      <td>MergeSortCompiled</td>\n",
       "      <td>NaN</td>\n",
       "      <td>NaN</td>\n",
       "      <td>NaN</td>\n",
       "      <td>NaN</td>\n",
       "      <td>NaN</td>\n",
       "      <td>NaN</td>\n",
       "      <td>NaN</td>\n",
       "      <td>NaN</td>\n",
       "    </tr>\n",
       "    <tr>\n",
       "      <th>5</th>\n",
       "      <td>QuickSortCompiled</td>\n",
       "      <td>NaN</td>\n",
       "      <td>NaN</td>\n",
       "      <td>NaN</td>\n",
       "      <td>NaN</td>\n",
       "      <td>NaN</td>\n",
       "      <td>NaN</td>\n",
       "      <td>NaN</td>\n",
       "      <td>NaN</td>\n",
       "    </tr>\n",
       "    <tr>\n",
       "      <th>6</th>\n",
       "      <td>BubbleSortCompiled</td>\n",
       "      <td>NaN</td>\n",
       "      <td>NaN</td>\n",
       "      <td>NaN</td>\n",
       "      <td>NaN</td>\n",
       "      <td>NaN</td>\n",
       "      <td>NaN</td>\n",
       "      <td>NaN</td>\n",
       "      <td>NaN</td>\n",
       "    </tr>\n",
       "  </tbody>\n",
       "</table>\n",
       "</div>"
      ],
      "text/plain": [
       "                 name    1   10  100 1000 10000 100000 1000000 10000000\n",
       "0           MergeSort  NaN  NaN  NaN  NaN   NaN    NaN     NaN      NaN\n",
       "1           QuickSort  NaN  NaN  NaN  NaN   NaN    NaN     NaN      NaN\n",
       "2          BubbleSort  NaN  NaN  NaN  NaN   NaN    NaN     NaN      NaN\n",
       "3         defaultSort  NaN  NaN  NaN  NaN   NaN    NaN     NaN      NaN\n",
       "4   MergeSortCompiled  NaN  NaN  NaN  NaN   NaN    NaN     NaN      NaN\n",
       "5   QuickSortCompiled  NaN  NaN  NaN  NaN   NaN    NaN     NaN      NaN\n",
       "6  BubbleSortCompiled  NaN  NaN  NaN  NaN   NaN    NaN     NaN      NaN"
      ]
     },
     "execution_count": 58,
     "metadata": {},
     "output_type": "execute_result"
    }
   ],
   "source": [
    "df"
   ]
  },
  {
   "cell_type": "code",
   "execution_count": 76,
   "metadata": {
    "collapsed": true
   },
   "outputs": [],
   "source": [
    "funcs = {\"MergeSort\": m.time, \"QuickSort\": q.time, \"BubbleSort\": b.time, \"defaultSort\": s.time, \"MergeSortCompiled\": timemergesort, \"QuickSortCompiled\": timequicksort, \"BubbleSortCompiled\": timebubblesort}"
   ]
  },
  {
   "cell_type": "code",
   "execution_count": 81,
   "metadata": {
    "collapsed": true
   },
   "outputs": [],
   "source": [
    "x = 10000000\n",
    "ls = list(range(x))"
   ]
  },
  {
   "cell_type": "code",
   "execution_count": 82,
   "metadata": {
    "collapsed": false
   },
   "outputs": [],
   "source": [
    "for idx, row in df.iterrows():\n",
    "    func = funcs[row[0]]\n",
    "    for i in cols[1:]:\n",
    "        if idx == 2 and i > 6:\n",
    "            continue\n",
    "        lsi = ls[0:i]\n",
    "        random.shuffle(lsi)\n",
    "        df[i][idx] = func(lsi)      "
   ]
  },
  {
   "cell_type": "code",
   "execution_count": 83,
   "metadata": {
    "collapsed": false
   },
   "outputs": [
    {
     "data": {
      "text/html": [
       "<div>\n",
       "<table border=\"1\" class=\"dataframe\">\n",
       "  <thead>\n",
       "    <tr style=\"text-align: right;\">\n",
       "      <th></th>\n",
       "      <th>name</th>\n",
       "      <th>1</th>\n",
       "      <th>10</th>\n",
       "      <th>100</th>\n",
       "      <th>1000</th>\n",
       "      <th>10000</th>\n",
       "      <th>100000</th>\n",
       "      <th>1000000</th>\n",
       "      <th>10000000</th>\n",
       "    </tr>\n",
       "  </thead>\n",
       "  <tbody>\n",
       "    <tr>\n",
       "      <th>0</th>\n",
       "      <td>MergeSort</td>\n",
       "      <td>0.000133983</td>\n",
       "      <td>0.000133859</td>\n",
       "      <td>0.00142388</td>\n",
       "      <td>0.0225746</td>\n",
       "      <td>0.099764</td>\n",
       "      <td>0.642251</td>\n",
       "      <td>6.77026</td>\n",
       "      <td>89.4286</td>\n",
       "    </tr>\n",
       "    <tr>\n",
       "      <th>1</th>\n",
       "      <td>QuickSort</td>\n",
       "      <td>0.000119404</td>\n",
       "      <td>4.8977e-05</td>\n",
       "      <td>0.000316958</td>\n",
       "      <td>0.00508396</td>\n",
       "      <td>0.0425414</td>\n",
       "      <td>0.408616</td>\n",
       "      <td>5.94175</td>\n",
       "      <td>85.0411</td>\n",
       "    </tr>\n",
       "    <tr>\n",
       "      <th>2</th>\n",
       "      <td>BubbleSort</td>\n",
       "      <td>7.7959e-05</td>\n",
       "      <td>4.5949e-05</td>\n",
       "      <td>0.00264799</td>\n",
       "      <td>0.156729</td>\n",
       "      <td>NaN</td>\n",
       "      <td>NaN</td>\n",
       "      <td>NaN</td>\n",
       "      <td>NaN</td>\n",
       "    </tr>\n",
       "    <tr>\n",
       "      <th>3</th>\n",
       "      <td>defaultSort</td>\n",
       "      <td>5.2695e-05</td>\n",
       "      <td>2.32499e-06</td>\n",
       "      <td>1.642e-05</td>\n",
       "      <td>0.000213975</td>\n",
       "      <td>0.00281459</td>\n",
       "      <td>0.0477617</td>\n",
       "      <td>0.804331</td>\n",
       "      <td>11.1094</td>\n",
       "    </tr>\n",
       "    <tr>\n",
       "      <th>4</th>\n",
       "      <td>MergeSortCompiled</td>\n",
       "      <td>92.0738</td>\n",
       "      <td>91.5794</td>\n",
       "      <td>96.0315</td>\n",
       "      <td>90.2568</td>\n",
       "      <td>89.466</td>\n",
       "      <td>89.1144</td>\n",
       "      <td>88.9016</td>\n",
       "      <td>88.993</td>\n",
       "    </tr>\n",
       "    <tr>\n",
       "      <th>5</th>\n",
       "      <td>QuickSortCompiled</td>\n",
       "      <td>0.000230268</td>\n",
       "      <td>9.279e-06</td>\n",
       "      <td>2.1507e-05</td>\n",
       "      <td>0.000199681</td>\n",
       "      <td>0.00191376</td>\n",
       "      <td>0.0189702</td>\n",
       "      <td>0.319554</td>\n",
       "      <td>3.63403</td>\n",
       "    </tr>\n",
       "    <tr>\n",
       "      <th>6</th>\n",
       "      <td>BubbleSortCompiled</td>\n",
       "      <td>0.156404</td>\n",
       "      <td>0.157706</td>\n",
       "      <td>0.156515</td>\n",
       "      <td>0.158476</td>\n",
       "      <td>0.157484</td>\n",
       "      <td>0.154905</td>\n",
       "      <td>0.159818</td>\n",
       "      <td>0.186263</td>\n",
       "    </tr>\n",
       "  </tbody>\n",
       "</table>\n",
       "</div>"
      ],
      "text/plain": [
       "                 name            1           10          100         1000  \\\n",
       "0           MergeSort  0.000133983  0.000133859   0.00142388    0.0225746   \n",
       "1           QuickSort  0.000119404   4.8977e-05  0.000316958   0.00508396   \n",
       "2          BubbleSort   7.7959e-05   4.5949e-05   0.00264799     0.156729   \n",
       "3         defaultSort   5.2695e-05  2.32499e-06    1.642e-05  0.000213975   \n",
       "4   MergeSortCompiled      92.0738      91.5794      96.0315      90.2568   \n",
       "5   QuickSortCompiled  0.000230268    9.279e-06   2.1507e-05  0.000199681   \n",
       "6  BubbleSortCompiled     0.156404     0.157706     0.156515     0.158476   \n",
       "\n",
       "        10000     100000   1000000  10000000  \n",
       "0    0.099764   0.642251   6.77026   89.4286  \n",
       "1   0.0425414   0.408616   5.94175   85.0411  \n",
       "2         NaN        NaN       NaN       NaN  \n",
       "3  0.00281459  0.0477617  0.804331   11.1094  \n",
       "4      89.466    89.1144   88.9016    88.993  \n",
       "5  0.00191376  0.0189702  0.319554   3.63403  \n",
       "6    0.157484   0.154905  0.159818  0.186263  "
      ]
     },
     "execution_count": 83,
     "metadata": {},
     "output_type": "execute_result"
    }
   ],
   "source": [
    "df"
   ]
  },
  {
   "cell_type": "code",
   "execution_count": null,
   "metadata": {
    "collapsed": true
   },
   "outputs": [],
   "source": [
    "x = 10000000\n",
    "ls = list(range(x))\n",
    "random.shuffle(ls)\n",
    "timebubblesort(ls)"
   ]
  },
  {
   "cell_type": "code",
   "execution_count": null,
   "metadata": {
    "collapsed": true
   },
   "outputs": [],
   "source": []
  }
 ],
 "metadata": {
  "anaconda-cloud": {},
  "kernelspec": {
   "display_name": "Python [conda root]",
   "language": "python",
   "name": "conda-root-py"
  },
  "language_info": {
   "codemirror_mode": {
    "name": "ipython",
    "version": 3
   },
   "file_extension": ".py",
   "mimetype": "text/x-python",
   "name": "python",
   "nbconvert_exporter": "python",
   "pygments_lexer": "ipython3",
   "version": "3.5.2"
  }
 },
 "nbformat": 4,
 "nbformat_minor": 1
}
