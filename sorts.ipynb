{
 "cells": [
  {
   "cell_type": "markdown",
   "metadata": {},
   "source": [
    "# Sorting Algorithms "
   ]
  },
  {
   "cell_type": "markdown",
   "metadata": {},
   "source": [
    "## Imports"
   ]
  },
  {
   "cell_type": "code",
   "execution_count": 1,
   "metadata": {
    "collapsed": true
   },
   "outputs": [],
   "source": [
    "from numba import jit\n",
    "import random \n",
    "import timeit"
   ]
  },
  {
   "cell_type": "markdown",
   "metadata": {},
   "source": [
    "## Merge Sort"
   ]
  },
  {
   "cell_type": "code",
   "execution_count": 2,
   "metadata": {
    "collapsed": false
   },
   "outputs": [],
   "source": [
    "def mergesort(a):\n",
    "    n = len(a)\n",
    "    if n==0:\n",
    "        return a\n",
    "    if n ==1:\n",
    "        return a\n",
    "    if n > 1:\n",
    "        return merge(mergesort(a[:int(n/2)]), mergesort(a[int(n/2):]))"
   ]
  },
  {
   "cell_type": "code",
   "execution_count": 3,
   "metadata": {
    "collapsed": true
   },
   "outputs": [],
   "source": [
    "def merge(l1, l2): \n",
    "    combined = []\n",
    "    c1 = 0 \n",
    "    c2 = 0\n",
    "    n1 = l1[c1]\n",
    "    n2 = l2[c2]\n",
    "    len1 = len(l1)\n",
    "    len2 = len(l2)\n",
    "    while (c1<len1 and c2<len2):\n",
    "        if n1 < n2: \n",
    "            combined.append(n1)\n",
    "            c1+=1\n",
    "            if (c1 < len1): \n",
    "                n1 = l1[c1]\n",
    "        else: \n",
    "            combined.append(n2)\n",
    "            c2+=1\n",
    "            if (c2 < len2):\n",
    "                n2 = l2[c2]\n",
    "    combined.extend(l1[c1:])\n",
    "    combined.extend(l2[c2:])\n",
    "    return combined"
   ]
  },
  {
   "cell_type": "code",
   "execution_count": 4,
   "metadata": {
    "collapsed": false
   },
   "outputs": [
    {
     "data": {
      "text/plain": [
       "[3, 4, 5, 6, 7]"
      ]
     },
     "execution_count": 4,
     "metadata": {},
     "output_type": "execute_result"
    }
   ],
   "source": [
    "merge([3, 5],[4, 6, 7])"
   ]
  },
  {
   "cell_type": "code",
   "execution_count": 5,
   "metadata": {
    "collapsed": false
   },
   "outputs": [
    {
     "data": {
      "text/plain": [
       "[1, 2, 4, 5, 6, 8]"
      ]
     },
     "execution_count": 5,
     "metadata": {},
     "output_type": "execute_result"
    }
   ],
   "source": [
    "mergesort([6, 8, 2, 4, 1, 5])"
   ]
  },
  {
   "cell_type": "markdown",
   "metadata": {},
   "source": [
    "## Bubble Sort"
   ]
  },
  {
   "cell_type": "code",
   "execution_count": 6,
   "metadata": {
    "collapsed": false
   },
   "outputs": [],
   "source": [
    "@jit\n",
    "def bubblesort(a):\n",
    "    while(not isSorted(a)):\n",
    "        for i in range (1, len(a)):\n",
    "            if a[i-1] > a[i]:\n",
    "                temp = a[i-1]\n",
    "                a[i-1] = a[i]\n",
    "                a[i] = temp\n",
    "    return a\n"
   ]
  },
  {
   "cell_type": "code",
   "execution_count": 7,
   "metadata": {
    "collapsed": false
   },
   "outputs": [],
   "source": [
    "@jit\n",
    "def isSorted(a):\n",
    "    for i in range(1, len(a)):\n",
    "        if a[i-1] > a[i]:\n",
    "            return False\n",
    "    return True "
   ]
  },
  {
   "cell_type": "code",
   "execution_count": 8,
   "metadata": {
    "collapsed": false
   },
   "outputs": [
    {
     "data": {
      "text/plain": [
       "[-1, 2, 3, 3, 4, 4, 5, 6, 7, 8, 9]"
      ]
     },
     "execution_count": 8,
     "metadata": {},
     "output_type": "execute_result"
    }
   ],
   "source": [
    "bubblesort([-1, 2, 6, 4, 5, 3, 7, 8, 3, 4, 9])"
   ]
  },
  {
   "cell_type": "markdown",
   "metadata": {},
   "source": [
    "## Quick Sort"
   ]
  },
  {
   "cell_type": "code",
   "execution_count": 9,
   "metadata": {
    "collapsed": true
   },
   "outputs": [],
   "source": [
    "@jit\n",
    "def quicksort(a, s, e):\n",
    "    #print(a, s, e)\n",
    "    #print(a.__repr__)\n",
    "    if (e-s)==0:\n",
    "        return \n",
    "    pivot = a[e-1]\n",
    "    p1 = s\n",
    "    p2 = e - 1\n",
    "    while (p1 != p2):\n",
    "        if (a[p1] > pivot):\n",
    "            a[p2] = a[p1]\n",
    "            a[p1] = a[p2-1]\n",
    "            a[p2-1] = pivot\n",
    "            p2 = p2 -1\n",
    "        else: \n",
    "            p1+=1\n",
    "    quicksort(a, s, p2)\n",
    "    quicksort(a, p2+1, e)"
   ]
  },
  {
   "cell_type": "code",
   "execution_count": 10,
   "metadata": {
    "collapsed": false
   },
   "outputs": [
    {
     "data": {
      "text/plain": [
       "['aaa', 'cff', 'dsg', 'ssjs']"
      ]
     },
     "execution_count": 10,
     "metadata": {},
     "output_type": "execute_result"
    }
   ],
   "source": [
    "a = ['dsg', 'ssjs', 'aaa', 'cff']\n",
    "quicksort(a, 0, 4)\n",
    "a"
   ]
  },
  {
   "cell_type": "markdown",
   "metadata": {},
   "source": [
    "## Sort Class"
   ]
  },
  {
   "cell_type": "code",
   "execution_count": 11,
   "metadata": {
    "collapsed": false
   },
   "outputs": [],
   "source": [
    "class Sort(object):\n",
    "   \n",
    "    def sort(self, l):\n",
    "        l.sort()\n",
    "        return l\n",
    "\n",
    "    def isSorted(self, a):\n",
    "        for i in range(1, len(a)):\n",
    "            if a[i-1] > a[i]:\n",
    "                return False\n",
    "        return True \n",
    "    \n",
    "    def time(self, l):\n",
    "        def real():\n",
    "            self.sort(l)\n",
    "        return timeit.timeit(real, number =1)"
   ]
  },
  {
   "cell_type": "code",
   "execution_count": 12,
   "metadata": {
    "collapsed": true
   },
   "outputs": [],
   "source": [
    "class MergeSort(Sort):\n",
    "\n",
    "    def __merge(self, l1, l2): \n",
    "        combined = []\n",
    "        c1 = 0 \n",
    "        c2 = 0\n",
    "        n1 = l1[c1]\n",
    "        n2 = l2[c2]\n",
    "        len1 = len(l1)\n",
    "        len2 = len(l2)\n",
    "        while (c1<len1 and c2<len2):\n",
    "            if n1 < n2: \n",
    "                combined.append(n1)\n",
    "                c1+=1\n",
    "                if (c1 < len1): \n",
    "                    n1 = l1[c1]\n",
    "            else: \n",
    "                combined.append(n2)\n",
    "                c2+=1\n",
    "                if (c2 < len2):\n",
    "                    n2 = l2[c2]\n",
    "        combined.extend(l1[c1:])\n",
    "        combined.extend(l2[c2:])\n",
    "        return combined\n",
    "    \n",
    "    def sort(self, a):\n",
    "        n = len(a)\n",
    "        if n==0:\n",
    "            return a\n",
    "        if n ==1:\n",
    "            return a\n",
    "        if n > 1:\n",
    "            return self.__merge(self.sort(a[:int(n/2)]), self.sort(a[int(n/2):]))\n"
   ]
  },
  {
   "cell_type": "code",
   "execution_count": 13,
   "metadata": {
    "collapsed": false
   },
   "outputs": [],
   "source": [
    "class BubbleSort(Sort):\n",
    "    def sort(self, a):\n",
    "        while(not self.isSorted(a)):\n",
    "            for i in range (1, len(a)):\n",
    "                if a[i-1] > a[i]:\n",
    "                    temp = a[i-1]\n",
    "                    a[i-1] = a[i]\n",
    "                    a[i] = temp\n",
    "        return a"
   ]
  },
  {
   "cell_type": "code",
   "execution_count": 14,
   "metadata": {
    "collapsed": true
   },
   "outputs": [],
   "source": [
    "class QuickSort(Sort):\n",
    "    def sorthelper(self, a , s, e):\n",
    "        if (e-s)==0:\n",
    "            return \n",
    "        pivot = a[e-1]\n",
    "        p1 = s\n",
    "        p2 = e - 1\n",
    "        while (p1 != p2):\n",
    "            if (a[p1] > pivot):\n",
    "                a[p2] = a[p1]\n",
    "                a[p1] = a[p2-1]\n",
    "                a[p2-1] = pivot\n",
    "                p2 = p2 -1\n",
    "            else: \n",
    "                p1+=1\n",
    "        self.sorthelper(a, s, p2)\n",
    "        self.sorthelper(a, p2+1, e)       \n",
    "    \n",
    "    def sort(self, a):\n",
    "        self.sorthelper(a , 0, len(a))"
   ]
  },
  {
   "cell_type": "markdown",
   "metadata": {},
   "source": [
    "## Timings"
   ]
  },
  {
   "cell_type": "code",
   "execution_count": 15,
   "metadata": {
    "collapsed": false,
    "scrolled": true
   },
   "outputs": [
    {
     "name": "stdout",
     "output_type": "stream",
     "text": [
      "0.059273206017678604\n",
      "0.002656165015650913\n",
      "0.03405297300196253\n",
      "14.139087391988141\n"
     ]
    }
   ],
   "source": [
    "x = 10000\n",
    "ls = list(range(x))\n",
    "random.shuffle(ls)\n",
    "m = MergeSort()\n",
    "b = BubbleSort()\n",
    "q = QuickSort()\n",
    "s = Sort()\n",
    "for i in [m, s, q, b]:\n",
    "    random.shuffle(ls)\n",
    "    print(i.time(ls))"
   ]
  },
  {
   "cell_type": "code",
   "execution_count": 16,
   "metadata": {
    "collapsed": true
   },
   "outputs": [],
   "source": [
    "x = 1000000\n",
    "ls = list(range(x))"
   ]
  },
  {
   "cell_type": "code",
   "execution_count": 17,
   "metadata": {
    "collapsed": false
   },
   "outputs": [
    {
     "data": {
      "text/plain": [
       "0.5032950970053207"
      ]
     },
     "execution_count": 17,
     "metadata": {},
     "output_type": "execute_result"
    }
   ],
   "source": [
    "random.shuffle(ls)\n",
    "def quick_sort():\n",
    "    quicksort(ls, 0, x)\n",
    "timeit.timeit(quick_sort, number =1)"
   ]
  },
  {
   "cell_type": "code",
   "execution_count": 18,
   "metadata": {
    "collapsed": false
   },
   "outputs": [
    {
     "data": {
      "text/plain": [
       "1.101486647996353"
      ]
     },
     "execution_count": 18,
     "metadata": {},
     "output_type": "execute_result"
    }
   ],
   "source": [
    "random.shuffle(ls)\n",
    "def real():\n",
    "    ls.sort()\n",
    "timeit.timeit(real, number =1)"
   ]
  },
  {
   "cell_type": "code",
   "execution_count": null,
   "metadata": {
    "collapsed": false
   },
   "outputs": [],
   "source": [
    "random.shuffle(ls)\n",
    "def bubble_sort():\n",
    "    bubblesort(ls)\n",
    "timeit.timeit(bubble_sort, number =1)"
   ]
  },
  {
   "cell_type": "code",
   "execution_count": 19,
   "metadata": {
    "collapsed": false
   },
   "outputs": [
    {
     "data": {
      "text/plain": [
       "7.378294012014521"
      ]
     },
     "execution_count": 19,
     "metadata": {},
     "output_type": "execute_result"
    }
   ],
   "source": [
    "random.shuffle(ls)\n",
    "def merge_sort():\n",
    "    return mergesort(ls)\n",
    "timeit.timeit(merge_sort, number =1)"
   ]
  }
 ],
 "metadata": {
  "anaconda-cloud": {},
  "kernelspec": {
   "display_name": "Python [conda root]",
   "language": "python",
   "name": "conda-root-py"
  },
  "language_info": {
   "codemirror_mode": {
    "name": "ipython",
    "version": 3
   },
   "file_extension": ".py",
   "mimetype": "text/x-python",
   "name": "python",
   "nbconvert_exporter": "python",
   "pygments_lexer": "ipython3",
   "version": "3.5.2"
  }
 },
 "nbformat": 4,
 "nbformat_minor": 1
}
